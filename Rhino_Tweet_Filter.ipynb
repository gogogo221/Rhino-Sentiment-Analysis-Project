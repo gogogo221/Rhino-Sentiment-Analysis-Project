{
  "cells": [
    {
      "cell_type": "markdown",
      "metadata": {
        "id": "LM8-2GiVhYA6"
      },
      "source": [
        "### Rhino Tweet Filter"
      ]
    },
    {
      "cell_type": "code",
      "execution_count": 1,
      "metadata": {
        "colab": {
          "base_uri": "https://localhost:8080/"
        },
        "id": "KjdZkFbRhZL9",
        "outputId": "4da21b50-72b2-4c8d-8014-b2e4765c83dc"
      },
      "outputs": [],
      "source": [
        "import csv\n",
        "import re\n",
        "import pandas as pd\n",
        "import numpy as np\n",
        "import glob\n",
        "import os\n",
        "\n",
        "\n",
        "path = r\"D:\\coding\\classes\\csci461\\Rhino-Sentiment-Analysis-Project\\tweets\"\n",
        "output_file_path = r\"D:/coding/classes/csci461/Rhino-Sentiment-Analysis-Project/filtered_tweets/\"\n",
        "all_files = glob.glob(os.path.join(path , \"*.csv\"))\n",
        "\n",
        "# keywords to filter\n",
        "exclusion_keywords = [\"leeds\",\"sport\",\"champion\",\"rugby\",\"nft\",\"token\", \"mint\", \"tokeneasy\", \"maskedsingeruk\", \"nft\", \"tucker\",\n",
        "                      \"patriots\", \"mitch\", \"mcConnel\", \"fauci\", \"libtards\", \"amp\", \"dems\", \"starbucks\", \"cabal\", \"communist\",\n",
        "                      \"palestinians\", \"zoo tycoon 2\", \"republican\", \"crypto\", \"mtg\", \"womenswear\", \"roblox\", \"horny\", \"adoptme\",\n",
        "                      \"voters\", \"nationalist\"]\n",
        "\n",
        "inclusion_keywords = [\"poach\", \"endangered\", \"conservation\",\"horn\",\"trade\",\"habitat\",\"population\",\n",
        "                    \"wildlife\",\"trafficking\",\"market\",\"smuggling\",\"protection\",\"tracking\",\"demand\",\n",
        "                    \"kill\", \"national\", \"africa\", \"calf\", \"mother\", \"zoo\", \"wild\", \"africa\", \"breeding\", \"species\",\n",
        "                    \"extinction\", \"northern white rhino\"]\n",
        "\n",
        "# Convert keywords to lowercase for case-insensitive matching\n",
        "exclusion = [keyword.lower() for keyword in exclusion_keywords]\n",
        "inclusion_keywords = [keyword.lower() for keyword in inclusion_keywords]\n",
        "\n"
      ]
    },
    {
      "cell_type": "code",
      "execution_count": 2,
      "metadata": {},
      "outputs": [],
      "source": [
        "def filter_tweets(filename):\n",
        "\n",
        "    tweets = pd.read_csv(filename, index_col=None, header=0, lineterminator='\\n',)\n",
        "    tweets = tweets.dropna(axis=0, how=\"any\")\n",
        "    tweets['tweet'] = tweets.apply(lambda row : row[\"tweet\"].lower(), axis=1)\n",
        "    tweets = tweets[tweets[\"lang\"] == \"en\"]\n",
        "\n",
        "\n",
        "    has_inclusion = np.zeros(tweets.shape[0])\n",
        "    has_exclusion = np.zeros(tweets.shape[0])\n",
        "    for word in inclusion_keywords:\n",
        "        has_inclusion = has_inclusion | tweets[\"tweet\"].str.contains(word)\n",
        "    for word in exclusion_keywords:\n",
        "        has_exclusion = has_exclusion | tweets[\"tweet\"].str.contains(word)\n",
        "\n",
        "    tweets = tweets[~has_exclusion]\n",
        "    tweets = tweets[has_inclusion]\n",
        "    tweets = tweets.drop_duplicates(subset=\"tweet\", keep=\"first\",ignore_index=True)\n",
        "    return tweets\n"
      ]
    },
    {
      "cell_type": "code",
      "execution_count": 3,
      "metadata": {},
      "outputs": [
        {
          "name": "stderr",
          "output_type": "stream",
          "text": [
            "C:\\Users\\nathan\\AppData\\Local\\Temp/ipykernel_22636/1779486216.py:17: UserWarning: Boolean Series key will be reindexed to match DataFrame index.\n",
            "  tweets = tweets[has_inclusion]\n"
          ]
        }
      ],
      "source": [
        "for file_path in all_files:\n",
        "    tweets = filter_tweets(file_path)\n",
        "    tweets.to_csv(output_file_path + file_path.split(\"\\\\\")[-1])\n"
      ]
    }
  ],
  "metadata": {
    "colab": {
      "provenance": []
    },
    "kernelspec": {
      "display_name": "Python 3",
      "name": "python3"
    },
    "language_info": {
      "codemirror_mode": {
        "name": "ipython",
        "version": 3
      },
      "file_extension": ".py",
      "mimetype": "text/x-python",
      "name": "python",
      "nbconvert_exporter": "python",
      "pygments_lexer": "ipython3",
      "version": "3.9.7"
    }
  },
  "nbformat": 4,
  "nbformat_minor": 0
}
