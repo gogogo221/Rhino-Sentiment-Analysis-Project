{
 "cells": [
  {
   "cell_type": "code",
   "execution_count": 21,
   "metadata": {},
   "outputs": [],
   "source": [
    "import pandas as pd\n",
    "import glob\n",
    "import os\n",
    "from collections import defaultdict\n",
    "import numpy as np"
   ]
  },
  {
   "cell_type": "code",
   "execution_count": 22,
   "metadata": {},
   "outputs": [],
   "source": [
    "import locationtagger"
   ]
  },
  {
   "cell_type": "code",
   "execution_count": 23,
   "metadata": {},
   "outputs": [
    {
     "name": "stdout",
     "output_type": "stream",
     "text": [
      "D:/coding/classes/csci461/rhino_data/Rhino_Users\n",
      "D:/coding/classes/csci461/rhino_data/Rhino_Users\\*.csv\n",
      "D:/coding/classes/csci461/rhino_data/Rhino_Users\\user_0.csv\n",
      "D:/coding/classes/csci461/rhino_data/Rhino_Users\\user_1.csv\n",
      "D:/coding/classes/csci461/rhino_data/Rhino_Users\\user_2.csv\n",
      "D:/coding/classes/csci461/rhino_data/Rhino_Users\\user_3.csv\n",
      "D:/coding/classes/csci461/rhino_data/Rhino_Users\\user_4.csv\n"
     ]
    }
   ],
   "source": [
    "#take in user data\n",
    "path = r'D:/coding/classes/csci461/rhino_data/Rhino_Users' # use your path\n",
    "print(path)\n",
    "all_files = glob.glob(os.path.join(path , \"*.csv\"))\n",
    "print(os.path.join(path , \"*.csv\"))\n",
    "li = []\n",
    "\n",
    "for filename in all_files:\n",
    "    print(filename)\n",
    "    df = pd.read_csv(filename, index_col=None, header=0, lineterminator='\\n', converters = {'id': str})\n",
    "    li.append(df)\n",
    "\n",
    "\n",
    "users = pd.concat(li, axis=0, ignore_index=True)\n",
    "users.rename(columns={'created_at': 'users_created_at'}, inplace=True)\n"
   ]
  },
  {
   "cell_type": "code",
   "execution_count": 24,
   "metadata": {},
   "outputs": [
    {
     "name": "stdout",
     "output_type": "stream",
     "text": [
      "D:/coding/classes/csci461/rhino_data/tweets\n",
      "D:/coding/classes/csci461/rhino_data/tweets\\*.csv\n",
      "D:/coding/classes/csci461/rhino_data/tweets\\rhino_twitter_data_0.csv\n",
      "D:/coding/classes/csci461/rhino_data/tweets\\rhino_twitter_data_1.csv\n",
      "D:/coding/classes/csci461/rhino_data/tweets\\rhino_twitter_data_10.csv\n",
      "D:/coding/classes/csci461/rhino_data/tweets\\rhino_twitter_data_100.csv\n",
      "D:/coding/classes/csci461/rhino_data/tweets\\rhino_twitter_data_101.csv\n",
      "D:/coding/classes/csci461/rhino_data/tweets\\rhino_twitter_data_102.csv\n",
      "D:/coding/classes/csci461/rhino_data/tweets\\rhino_twitter_data_103.csv\n",
      "D:/coding/classes/csci461/rhino_data/tweets\\rhino_twitter_data_104.csv\n",
      "D:/coding/classes/csci461/rhino_data/tweets\\rhino_twitter_data_105.csv\n",
      "D:/coding/classes/csci461/rhino_data/tweets\\rhino_twitter_data_106.csv\n",
      "D:/coding/classes/csci461/rhino_data/tweets\\rhino_twitter_data_107.csv\n",
      "D:/coding/classes/csci461/rhino_data/tweets\\rhino_twitter_data_108.csv\n",
      "D:/coding/classes/csci461/rhino_data/tweets\\rhino_twitter_data_109.csv\n",
      "D:/coding/classes/csci461/rhino_data/tweets\\rhino_twitter_data_11.csv\n",
      "D:/coding/classes/csci461/rhino_data/tweets\\rhino_twitter_data_110.csv\n",
      "D:/coding/classes/csci461/rhino_data/tweets\\rhino_twitter_data_111.csv\n",
      "D:/coding/classes/csci461/rhino_data/tweets\\rhino_twitter_data_112.csv\n",
      "D:/coding/classes/csci461/rhino_data/tweets\\rhino_twitter_data_113.csv\n",
      "D:/coding/classes/csci461/rhino_data/tweets\\rhino_twitter_data_114.csv\n",
      "D:/coding/classes/csci461/rhino_data/tweets\\rhino_twitter_data_115.csv\n",
      "D:/coding/classes/csci461/rhino_data/tweets\\rhino_twitter_data_116.csv\n",
      "D:/coding/classes/csci461/rhino_data/tweets\\rhino_twitter_data_117.csv\n",
      "D:/coding/classes/csci461/rhino_data/tweets\\rhino_twitter_data_118.csv\n",
      "D:/coding/classes/csci461/rhino_data/tweets\\rhino_twitter_data_119.csv\n",
      "D:/coding/classes/csci461/rhino_data/tweets\\rhino_twitter_data_12.csv\n",
      "D:/coding/classes/csci461/rhino_data/tweets\\rhino_twitter_data_120.csv\n",
      "D:/coding/classes/csci461/rhino_data/tweets\\rhino_twitter_data_121.csv\n",
      "D:/coding/classes/csci461/rhino_data/tweets\\rhino_twitter_data_122.csv\n",
      "D:/coding/classes/csci461/rhino_data/tweets\\rhino_twitter_data_123.csv\n",
      "D:/coding/classes/csci461/rhino_data/tweets\\rhino_twitter_data_124.csv\n",
      "D:/coding/classes/csci461/rhino_data/tweets\\rhino_twitter_data_125.csv\n",
      "D:/coding/classes/csci461/rhino_data/tweets\\rhino_twitter_data_126.csv\n",
      "D:/coding/classes/csci461/rhino_data/tweets\\rhino_twitter_data_127.csv\n",
      "D:/coding/classes/csci461/rhino_data/tweets\\rhino_twitter_data_128.csv\n",
      "D:/coding/classes/csci461/rhino_data/tweets\\rhino_twitter_data_129.csv\n",
      "D:/coding/classes/csci461/rhino_data/tweets\\rhino_twitter_data_13.csv\n",
      "D:/coding/classes/csci461/rhino_data/tweets\\rhino_twitter_data_130.csv\n",
      "D:/coding/classes/csci461/rhino_data/tweets\\rhino_twitter_data_131.csv\n",
      "D:/coding/classes/csci461/rhino_data/tweets\\rhino_twitter_data_132.csv\n",
      "D:/coding/classes/csci461/rhino_data/tweets\\rhino_twitter_data_133.csv\n",
      "D:/coding/classes/csci461/rhino_data/tweets\\rhino_twitter_data_134.csv\n",
      "D:/coding/classes/csci461/rhino_data/tweets\\rhino_twitter_data_135.csv\n",
      "D:/coding/classes/csci461/rhino_data/tweets\\rhino_twitter_data_136.csv\n",
      "D:/coding/classes/csci461/rhino_data/tweets\\rhino_twitter_data_137.csv\n",
      "D:/coding/classes/csci461/rhino_data/tweets\\rhino_twitter_data_138.csv\n",
      "D:/coding/classes/csci461/rhino_data/tweets\\rhino_twitter_data_139.csv\n",
      "D:/coding/classes/csci461/rhino_data/tweets\\rhino_twitter_data_14.csv\n",
      "D:/coding/classes/csci461/rhino_data/tweets\\rhino_twitter_data_140.csv\n",
      "D:/coding/classes/csci461/rhino_data/tweets\\rhino_twitter_data_15.csv\n",
      "D:/coding/classes/csci461/rhino_data/tweets\\rhino_twitter_data_16.csv\n",
      "D:/coding/classes/csci461/rhino_data/tweets\\rhino_twitter_data_17.csv\n",
      "D:/coding/classes/csci461/rhino_data/tweets\\rhino_twitter_data_18.csv\n",
      "D:/coding/classes/csci461/rhino_data/tweets\\rhino_twitter_data_19.csv\n",
      "D:/coding/classes/csci461/rhino_data/tweets\\rhino_twitter_data_2.csv\n",
      "D:/coding/classes/csci461/rhino_data/tweets\\rhino_twitter_data_20.csv\n",
      "D:/coding/classes/csci461/rhino_data/tweets\\rhino_twitter_data_21.csv\n",
      "D:/coding/classes/csci461/rhino_data/tweets\\rhino_twitter_data_22.csv\n",
      "D:/coding/classes/csci461/rhino_data/tweets\\rhino_twitter_data_23.csv\n",
      "D:/coding/classes/csci461/rhino_data/tweets\\rhino_twitter_data_24.csv\n",
      "D:/coding/classes/csci461/rhino_data/tweets\\rhino_twitter_data_25.csv\n",
      "D:/coding/classes/csci461/rhino_data/tweets\\rhino_twitter_data_26.csv\n",
      "D:/coding/classes/csci461/rhino_data/tweets\\rhino_twitter_data_27.csv\n",
      "D:/coding/classes/csci461/rhino_data/tweets\\rhino_twitter_data_28.csv\n",
      "D:/coding/classes/csci461/rhino_data/tweets\\rhino_twitter_data_29.csv\n",
      "D:/coding/classes/csci461/rhino_data/tweets\\rhino_twitter_data_3.csv\n",
      "D:/coding/classes/csci461/rhino_data/tweets\\rhino_twitter_data_30.csv\n",
      "D:/coding/classes/csci461/rhino_data/tweets\\rhino_twitter_data_31.csv\n",
      "D:/coding/classes/csci461/rhino_data/tweets\\rhino_twitter_data_32.csv\n",
      "D:/coding/classes/csci461/rhino_data/tweets\\rhino_twitter_data_33.csv\n",
      "D:/coding/classes/csci461/rhino_data/tweets\\rhino_twitter_data_34.csv\n",
      "D:/coding/classes/csci461/rhino_data/tweets\\rhino_twitter_data_35.csv\n",
      "D:/coding/classes/csci461/rhino_data/tweets\\rhino_twitter_data_36.csv\n",
      "D:/coding/classes/csci461/rhino_data/tweets\\rhino_twitter_data_37.csv\n",
      "D:/coding/classes/csci461/rhino_data/tweets\\rhino_twitter_data_38.csv\n",
      "D:/coding/classes/csci461/rhino_data/tweets\\rhino_twitter_data_39.csv\n",
      "D:/coding/classes/csci461/rhino_data/tweets\\rhino_twitter_data_4.csv\n",
      "D:/coding/classes/csci461/rhino_data/tweets\\rhino_twitter_data_40.csv\n",
      "D:/coding/classes/csci461/rhino_data/tweets\\rhino_twitter_data_41.csv\n",
      "D:/coding/classes/csci461/rhino_data/tweets\\rhino_twitter_data_42.csv\n",
      "D:/coding/classes/csci461/rhino_data/tweets\\rhino_twitter_data_43.csv\n",
      "D:/coding/classes/csci461/rhino_data/tweets\\rhino_twitter_data_44.csv\n",
      "D:/coding/classes/csci461/rhino_data/tweets\\rhino_twitter_data_45.csv\n",
      "D:/coding/classes/csci461/rhino_data/tweets\\rhino_twitter_data_46.csv\n",
      "D:/coding/classes/csci461/rhino_data/tweets\\rhino_twitter_data_47.csv\n",
      "D:/coding/classes/csci461/rhino_data/tweets\\rhino_twitter_data_48.csv\n",
      "D:/coding/classes/csci461/rhino_data/tweets\\rhino_twitter_data_49.csv\n",
      "D:/coding/classes/csci461/rhino_data/tweets\\rhino_twitter_data_5.csv\n",
      "D:/coding/classes/csci461/rhino_data/tweets\\rhino_twitter_data_50.csv\n",
      "D:/coding/classes/csci461/rhino_data/tweets\\rhino_twitter_data_51.csv\n",
      "D:/coding/classes/csci461/rhino_data/tweets\\rhino_twitter_data_52.csv\n",
      "D:/coding/classes/csci461/rhino_data/tweets\\rhino_twitter_data_53.csv\n",
      "D:/coding/classes/csci461/rhino_data/tweets\\rhino_twitter_data_54.csv\n",
      "D:/coding/classes/csci461/rhino_data/tweets\\rhino_twitter_data_55.csv\n",
      "D:/coding/classes/csci461/rhino_data/tweets\\rhino_twitter_data_56.csv\n",
      "D:/coding/classes/csci461/rhino_data/tweets\\rhino_twitter_data_57.csv\n",
      "D:/coding/classes/csci461/rhino_data/tweets\\rhino_twitter_data_58.csv\n",
      "D:/coding/classes/csci461/rhino_data/tweets\\rhino_twitter_data_59.csv\n",
      "D:/coding/classes/csci461/rhino_data/tweets\\rhino_twitter_data_6.csv\n",
      "D:/coding/classes/csci461/rhino_data/tweets\\rhino_twitter_data_60.csv\n",
      "D:/coding/classes/csci461/rhino_data/tweets\\rhino_twitter_data_61.csv\n",
      "D:/coding/classes/csci461/rhino_data/tweets\\rhino_twitter_data_62.csv\n",
      "D:/coding/classes/csci461/rhino_data/tweets\\rhino_twitter_data_63.csv\n",
      "D:/coding/classes/csci461/rhino_data/tweets\\rhino_twitter_data_64.csv\n",
      "D:/coding/classes/csci461/rhino_data/tweets\\rhino_twitter_data_65.csv\n",
      "D:/coding/classes/csci461/rhino_data/tweets\\rhino_twitter_data_66.csv\n",
      "D:/coding/classes/csci461/rhino_data/tweets\\rhino_twitter_data_67.csv\n",
      "D:/coding/classes/csci461/rhino_data/tweets\\rhino_twitter_data_68.csv\n",
      "D:/coding/classes/csci461/rhino_data/tweets\\rhino_twitter_data_69.csv\n",
      "D:/coding/classes/csci461/rhino_data/tweets\\rhino_twitter_data_7.csv\n",
      "D:/coding/classes/csci461/rhino_data/tweets\\rhino_twitter_data_70.csv\n",
      "D:/coding/classes/csci461/rhino_data/tweets\\rhino_twitter_data_71.csv\n",
      "D:/coding/classes/csci461/rhino_data/tweets\\rhino_twitter_data_72.csv\n",
      "D:/coding/classes/csci461/rhino_data/tweets\\rhino_twitter_data_73.csv\n",
      "D:/coding/classes/csci461/rhino_data/tweets\\rhino_twitter_data_74.csv\n",
      "D:/coding/classes/csci461/rhino_data/tweets\\rhino_twitter_data_75.csv\n",
      "D:/coding/classes/csci461/rhino_data/tweets\\rhino_twitter_data_76.csv\n",
      "D:/coding/classes/csci461/rhino_data/tweets\\rhino_twitter_data_77.csv\n",
      "D:/coding/classes/csci461/rhino_data/tweets\\rhino_twitter_data_78.csv\n",
      "D:/coding/classes/csci461/rhino_data/tweets\\rhino_twitter_data_79.csv\n",
      "D:/coding/classes/csci461/rhino_data/tweets\\rhino_twitter_data_8.csv\n",
      "D:/coding/classes/csci461/rhino_data/tweets\\rhino_twitter_data_80.csv\n",
      "D:/coding/classes/csci461/rhino_data/tweets\\rhino_twitter_data_81.csv\n",
      "D:/coding/classes/csci461/rhino_data/tweets\\rhino_twitter_data_82.csv\n",
      "D:/coding/classes/csci461/rhino_data/tweets\\rhino_twitter_data_83.csv\n",
      "D:/coding/classes/csci461/rhino_data/tweets\\rhino_twitter_data_84.csv\n",
      "D:/coding/classes/csci461/rhino_data/tweets\\rhino_twitter_data_85.csv\n",
      "D:/coding/classes/csci461/rhino_data/tweets\\rhino_twitter_data_86.csv\n",
      "D:/coding/classes/csci461/rhino_data/tweets\\rhino_twitter_data_87.csv\n",
      "D:/coding/classes/csci461/rhino_data/tweets\\rhino_twitter_data_88.csv\n",
      "D:/coding/classes/csci461/rhino_data/tweets\\rhino_twitter_data_89.csv\n",
      "D:/coding/classes/csci461/rhino_data/tweets\\rhino_twitter_data_9.csv\n",
      "D:/coding/classes/csci461/rhino_data/tweets\\rhino_twitter_data_90.csv\n",
      "D:/coding/classes/csci461/rhino_data/tweets\\rhino_twitter_data_91.csv\n",
      "D:/coding/classes/csci461/rhino_data/tweets\\rhino_twitter_data_92.csv\n",
      "D:/coding/classes/csci461/rhino_data/tweets\\rhino_twitter_data_93.csv\n",
      "D:/coding/classes/csci461/rhino_data/tweets\\rhino_twitter_data_94.csv\n",
      "D:/coding/classes/csci461/rhino_data/tweets\\rhino_twitter_data_95.csv\n",
      "D:/coding/classes/csci461/rhino_data/tweets\\rhino_twitter_data_96.csv\n",
      "D:/coding/classes/csci461/rhino_data/tweets\\rhino_twitter_data_97.csv\n",
      "D:/coding/classes/csci461/rhino_data/tweets\\rhino_twitter_data_98.csv\n",
      "D:/coding/classes/csci461/rhino_data/tweets\\rhino_twitter_data_99.csv\n"
     ]
    }
   ],
   "source": [
    "#take in tweet\n",
    "path = r'D:/coding/classes/csci461/rhino_data/tweets' # use your path\n",
    "print(path)\n",
    "all_files = glob.glob(os.path.join(path , \"*.csv\"))\n",
    "print(os.path.join(path , \"*.csv\"))\n",
    "li = []\n",
    "\n",
    "for filename in all_files:\n",
    "    print(filename)\n",
    "    df = pd.read_csv(filename, index_col=None, header=0, lineterminator='\\n', converters = {'author_id': str})\n",
    "    li.append(df)\n",
    "\n",
    "\n",
    "tweets = pd.concat(li, axis=0, ignore_index=True)\n",
    "tweets.rename(columns={'created_at': 'tweet_created_at'}, inplace=True)\n",
    "tweets.drop( columns=\"created_at\\r\" ,inplace=True)\n"
   ]
  },
  {
   "cell_type": "code",
   "execution_count": null,
   "metadata": {},
   "outputs": [],
   "source": [
    "tweets.rename(columns={'created_at': 'tweet_created_at', \"created_at\\r\" : \"tweet_created_at\"}, inplace=True)\n"
   ]
  },
  {
   "cell_type": "code",
   "execution_count": null,
   "metadata": {},
   "outputs": [],
   "source": [
    "users.head(10)"
   ]
  },
  {
   "cell_type": "code",
   "execution_count": null,
   "metadata": {},
   "outputs": [],
   "source": [
    "#number of users \n",
    "print(users.shape[0])"
   ]
  },
  {
   "cell_type": "code",
   "execution_count": null,
   "metadata": {},
   "outputs": [],
   "source": [
    "tweets.shape"
   ]
  },
  {
   "cell_type": "code",
   "execution_count": null,
   "metadata": {},
   "outputs": [],
   "source": [
    "tweets = tweets"
   ]
  },
  {
   "cell_type": "code",
   "execution_count": null,
   "metadata": {},
   "outputs": [],
   "source": [
    "users.loc[users[\"id\"] == \"3426754587\"]"
   ]
  },
  {
   "cell_type": "code",
   "execution_count": null,
   "metadata": {},
   "outputs": [],
   "source": [
    "tweets[tweets[\"author_id\"] == \"3302594272\"]"
   ]
  },
  {
   "cell_type": "code",
   "execution_count": null,
   "metadata": {},
   "outputs": [],
   "source": [
    "tweets_no_na = tweets.dropna(axis=0, how=\"any\")"
   ]
  },
  {
   "cell_type": "code",
   "execution_count": null,
   "metadata": {},
   "outputs": [],
   "source": [
    "users_no_na = users.dropna(axis=0, how=\"any\")"
   ]
  },
  {
   "cell_type": "code",
   "execution_count": null,
   "metadata": {},
   "outputs": [],
   "source": [
    "users.shape"
   ]
  },
  {
   "cell_type": "code",
   "execution_count": null,
   "metadata": {},
   "outputs": [],
   "source": [
    "users_no_na.shape"
   ]
  },
  {
   "cell_type": "code",
   "execution_count": null,
   "metadata": {},
   "outputs": [],
   "source": [
    "def tag_country(location):\n",
    "    place = (locationtagger.find_locations(text = location))\n",
    "    #print(f\"{i} {place.countries} {place.regions} {place.cities} {place.country_regions}\")\n",
    "    if len(place.countries) != 0:\n",
    "        return (place.countries[0])\n",
    "    elif len(place.country_regions) != 0:\n",
    "        return (list(place.country_regions.keys())[0])\n",
    "    elif len(place.country_cities) != 0:\n",
    "        return (list(place.country_cities.keys())[0])\n",
    "    else:\n",
    "        return (None)\n",
    "   "
   ]
  },
  {
   "cell_type": "code",
   "execution_count": null,
   "metadata": {},
   "outputs": [
    {
     "name": "stderr",
     "output_type": "stream",
     "text": [
      "C:\\Users\\nathan\\AppData\\Local\\Temp/ipykernel_13720/850871776.py:2: SettingWithCopyWarning: \n",
      "A value is trying to be set on a copy of a slice from a DataFrame.\n",
      "Try using .loc[row_indexer,col_indexer] = value instead\n",
      "\n",
      "See the caveats in the documentation: https://pandas.pydata.org/pandas-docs/stable/user_guide/indexing.html#returning-a-view-versus-a-copy\n",
      "  first_1000[\"country\"] = users_no_na[\"location\"].iloc[0:100].apply(tag_country)\n"
     ]
    }
   ],
   "source": [
    "#first_1000 = users_no_na.iloc[0:100]\n",
    "#first_1000[\"country\"] = users_no_na[\"location\"].iloc[0:100].apply(tag_country)"
   ]
  },
  {
   "cell_type": "code",
   "execution_count": null,
   "metadata": {},
   "outputs": [
    {
     "data": {
      "text/html": [
       "<div>\n",
       "<style scoped>\n",
       "    .dataframe tbody tr th:only-of-type {\n",
       "        vertical-align: middle;\n",
       "    }\n",
       "\n",
       "    .dataframe tbody tr th {\n",
       "        vertical-align: top;\n",
       "    }\n",
       "\n",
       "    .dataframe thead th {\n",
       "        text-align: right;\n",
       "    }\n",
       "</style>\n",
       "<table border=\"1\" class=\"dataframe\">\n",
       "  <thead>\n",
       "    <tr style=\"text-align: right;\">\n",
       "      <th></th>\n",
       "      <th>id</th>\n",
       "      <th>username</th>\n",
       "      <th>description</th>\n",
       "      <th>location</th>\n",
       "      <th>users_created_at</th>\n",
       "      <th>public_metrics</th>\n",
       "      <th>verified</th>\n",
       "      <th>country</th>\n",
       "    </tr>\n",
       "  </thead>\n",
       "  <tbody>\n",
       "    <tr>\n",
       "      <th>0</th>\n",
       "      <td>10671602</td>\n",
       "      <td>PlayStation</td>\n",
       "      <td>Official Twitter updates on PlayStation, PS5, ...</td>\n",
       "      <td>California</td>\n",
       "      <td>2007-11-27 22:37:20+00:00</td>\n",
       "      <td>{'followers_count': 29683804, 'following_count...</td>\n",
       "      <td>True</td>\n",
       "      <td>United States</td>\n",
       "    </tr>\n",
       "    <tr>\n",
       "      <th>1</th>\n",
       "      <td>3426754587</td>\n",
       "      <td>sudantherhino</td>\n",
       "      <td>Sudan, the last male Northern White Rhino, is ...</td>\n",
       "      <td>Canada</td>\n",
       "      <td>2015-08-16 21:52:14+00:00</td>\n",
       "      <td>{'followers_count': 2684, 'following_count': 2...</td>\n",
       "      <td>False</td>\n",
       "      <td>Canada</td>\n",
       "    </tr>\n",
       "    <tr>\n",
       "      <th>2</th>\n",
       "      <td>563812686</td>\n",
       "      <td>PeterSmithYEP</td>\n",
       "      <td>Rugby league (+ darts + cycling) writer: Yorks...</td>\n",
       "      <td>Leeds/York</td>\n",
       "      <td>2012-04-26 13:38:39+00:00</td>\n",
       "      <td>{'followers_count': 9509, 'following_count': 1...</td>\n",
       "      <td>True</td>\n",
       "      <td>United Kingdom</td>\n",
       "    </tr>\n",
       "    <tr>\n",
       "      <th>3</th>\n",
       "      <td>105784219</td>\n",
       "      <td>emma_tr4_rhinos</td>\n",
       "      <td>Proud Supporter of Leeds Rhinos Leeds united G...</td>\n",
       "      <td>(west yorkshire)</td>\n",
       "      <td>2010-01-17 13:25:13+00:00</td>\n",
       "      <td>{'followers_count': 201, 'following_count': 17...</td>\n",
       "      <td>False</td>\n",
       "      <td>None</td>\n",
       "    </tr>\n",
       "    <tr>\n",
       "      <th>4</th>\n",
       "      <td>14847185</td>\n",
       "      <td>leedsrhinos</td>\n",
       "      <td>Official account for eight times Men’s Super L...</td>\n",
       "      <td>Leeds, England</td>\n",
       "      <td>2008-05-20 16:29:13+00:00</td>\n",
       "      <td>{'followers_count': 202108, 'following_count':...</td>\n",
       "      <td>True</td>\n",
       "      <td>United Kingdom</td>\n",
       "    </tr>\n",
       "    <tr>\n",
       "      <th>...</th>\n",
       "      <td>...</td>\n",
       "      <td>...</td>\n",
       "      <td>...</td>\n",
       "      <td>...</td>\n",
       "      <td>...</td>\n",
       "      <td>...</td>\n",
       "      <td>...</td>\n",
       "      <td>...</td>\n",
       "    </tr>\n",
       "    <tr>\n",
       "      <th>147</th>\n",
       "      <td>1002648443746177026</td>\n",
       "      <td>SuperLeagueSund</td>\n",
       "      <td>In 2020, https://t.co/Wmmy8PMiW0 is the home o...</td>\n",
       "      <td>Salford, England</td>\n",
       "      <td>2018-06-01 20:29:52+00:00</td>\n",
       "      <td>{'followers_count': 390, 'following_count': 18...</td>\n",
       "      <td>False</td>\n",
       "      <td>United Kingdom</td>\n",
       "    </tr>\n",
       "    <tr>\n",
       "      <th>148</th>\n",
       "      <td>1593231727</td>\n",
       "      <td>SLClubs</td>\n",
       "      <td>Latest News &amp; Updates From All Super League Cl...</td>\n",
       "      <td>UK &amp; France</td>\n",
       "      <td>2013-07-14 11:48:16+00:00</td>\n",
       "      <td>{'followers_count': 13393, 'following_count': ...</td>\n",
       "      <td>False</td>\n",
       "      <td>France</td>\n",
       "    </tr>\n",
       "    <tr>\n",
       "      <th>149</th>\n",
       "      <td>220973759</td>\n",
       "      <td>theGoldthorpes</td>\n",
       "      <td>Vive la république</td>\n",
       "      <td>the frozen North</td>\n",
       "      <td>2010-11-29 11:27:38+00:00</td>\n",
       "      <td>{'followers_count': 455, 'following_count': 48...</td>\n",
       "      <td>False</td>\n",
       "      <td>France</td>\n",
       "    </tr>\n",
       "    <tr>\n",
       "      <th>151</th>\n",
       "      <td>3100613023</td>\n",
       "      <td>WinglessBird_</td>\n",
       "      <td>Universal love for all animals. Activism, advo...</td>\n",
       "      <td>Where the Wild Things Are</td>\n",
       "      <td>2015-03-21 01:18:05+00:00</td>\n",
       "      <td>{'followers_count': 9479, 'following_count': 7...</td>\n",
       "      <td>False</td>\n",
       "      <td>None</td>\n",
       "    </tr>\n",
       "    <tr>\n",
       "      <th>152</th>\n",
       "      <td>96385482</td>\n",
       "      <td>MercurialMiss</td>\n",
       "      <td>Leftist, cancer survivor, book worm, crafter a...</td>\n",
       "      <td>The D</td>\n",
       "      <td>2009-12-12 17:46:04+00:00</td>\n",
       "      <td>{'followers_count': 5244, 'following_count': 4...</td>\n",
       "      <td>False</td>\n",
       "      <td>None</td>\n",
       "    </tr>\n",
       "  </tbody>\n",
       "</table>\n",
       "<p>100 rows × 8 columns</p>\n",
       "</div>"
      ],
      "text/plain": [
       "                      id         username  \\\n",
       "0               10671602      PlayStation   \n",
       "1             3426754587    sudantherhino   \n",
       "2              563812686    PeterSmithYEP   \n",
       "3              105784219  emma_tr4_rhinos   \n",
       "4               14847185      leedsrhinos   \n",
       "..                   ...              ...   \n",
       "147  1002648443746177026  SuperLeagueSund   \n",
       "148           1593231727          SLClubs   \n",
       "149            220973759   theGoldthorpes   \n",
       "151           3100613023    WinglessBird_   \n",
       "152             96385482    MercurialMiss   \n",
       "\n",
       "                                           description  \\\n",
       "0    Official Twitter updates on PlayStation, PS5, ...   \n",
       "1    Sudan, the last male Northern White Rhino, is ...   \n",
       "2    Rugby league (+ darts + cycling) writer: Yorks...   \n",
       "3    Proud Supporter of Leeds Rhinos Leeds united G...   \n",
       "4    Official account for eight times Men’s Super L...   \n",
       "..                                                 ...   \n",
       "147  In 2020, https://t.co/Wmmy8PMiW0 is the home o...   \n",
       "148  Latest News & Updates From All Super League Cl...   \n",
       "149                                 Vive la république   \n",
       "151  Universal love for all animals. Activism, advo...   \n",
       "152  Leftist, cancer survivor, book worm, crafter a...   \n",
       "\n",
       "                      location           users_created_at  \\\n",
       "0                   California  2007-11-27 22:37:20+00:00   \n",
       "1                       Canada  2015-08-16 21:52:14+00:00   \n",
       "2                   Leeds/York  2012-04-26 13:38:39+00:00   \n",
       "3             (west yorkshire)  2010-01-17 13:25:13+00:00   \n",
       "4               Leeds, England  2008-05-20 16:29:13+00:00   \n",
       "..                         ...                        ...   \n",
       "147           Salford, England  2018-06-01 20:29:52+00:00   \n",
       "148                UK & France  2013-07-14 11:48:16+00:00   \n",
       "149           the frozen North  2010-11-29 11:27:38+00:00   \n",
       "151  Where the Wild Things Are  2015-03-21 01:18:05+00:00   \n",
       "152                      The D  2009-12-12 17:46:04+00:00   \n",
       "\n",
       "                                        public_metrics  verified  \\\n",
       "0    {'followers_count': 29683804, 'following_count...      True   \n",
       "1    {'followers_count': 2684, 'following_count': 2...     False   \n",
       "2    {'followers_count': 9509, 'following_count': 1...      True   \n",
       "3    {'followers_count': 201, 'following_count': 17...     False   \n",
       "4    {'followers_count': 202108, 'following_count':...      True   \n",
       "..                                                 ...       ...   \n",
       "147  {'followers_count': 390, 'following_count': 18...     False   \n",
       "148  {'followers_count': 13393, 'following_count': ...     False   \n",
       "149  {'followers_count': 455, 'following_count': 48...     False   \n",
       "151  {'followers_count': 9479, 'following_count': 7...     False   \n",
       "152  {'followers_count': 5244, 'following_count': 4...     False   \n",
       "\n",
       "            country  \n",
       "0     United States  \n",
       "1            Canada  \n",
       "2    United Kingdom  \n",
       "3              None  \n",
       "4    United Kingdom  \n",
       "..              ...  \n",
       "147  United Kingdom  \n",
       "148          France  \n",
       "149          France  \n",
       "151            None  \n",
       "152            None  \n",
       "\n",
       "[100 rows x 8 columns]"
      ]
     },
     "execution_count": 20,
     "metadata": {},
     "output_type": "execute_result"
    }
   ],
   "source": [
    "first_1000"
   ]
  },
  {
   "cell_type": "code",
   "execution_count": null,
   "metadata": {},
   "outputs": [
    {
     "data": {
      "text/plain": [
       "0        United States\n",
       "1               Canada\n",
       "2       United Kingdom\n",
       "3                 None\n",
       "4       United Kingdom\n",
       "             ...      \n",
       "1503      South Africa\n",
       "1504              None\n",
       "1505      South Africa\n",
       "1507              None\n",
       "1509    United Kingdom\n",
       "Name: location, Length: 1000, dtype: object"
      ]
     },
     "execution_count": 17,
     "metadata": {},
     "output_type": "execute_result"
    }
   ],
   "source": [
    "\n",
    "first_1000[\"country\"] = users_no_na[\"location\"].iloc[0:1000].apply(tag_country)"
   ]
  },
  {
   "cell_type": "code",
   "execution_count": null,
   "metadata": {},
   "outputs": [],
   "source": [
    "users_no_na.head(10)"
   ]
  },
  {
   "cell_type": "code",
   "execution_count": null,
   "metadata": {},
   "outputs": [],
   "source": [
    "tweets.shape"
   ]
  },
  {
   "cell_type": "code",
   "execution_count": null,
   "metadata": {},
   "outputs": [],
   "source": [
    "tweets_no_na.shape"
   ]
  },
  {
   "cell_type": "code",
   "execution_count": null,
   "metadata": {},
   "outputs": [],
   "source": [
    "tweets_no_na.head(5)"
   ]
  },
  {
   "cell_type": "markdown",
   "metadata": {},
   "source": []
  },
  {
   "cell_type": "code",
   "execution_count": null,
   "metadata": {},
   "outputs": [],
   "source": [
    "tweets_eng_only = tweets_no_na[tweets_no_na[\"lang\"] == \"en\"]"
   ]
  },
  {
   "cell_type": "code",
   "execution_count": null,
   "metadata": {},
   "outputs": [],
   "source": [
    "tweets_eng_only.shape"
   ]
  },
  {
   "cell_type": "code",
   "execution_count": null,
   "metadata": {},
   "outputs": [],
   "source": [
    "users[users[\"id\"] == \"1616510250781184025\"]"
   ]
  },
  {
   "cell_type": "code",
   "execution_count": null,
   "metadata": {},
   "outputs": [],
   "source": [
    "joined = tweets_eng_only.join(users_no_na.set_index(\"id\"), on=\"author_id\", how=\"inner\")"
   ]
  },
  {
   "cell_type": "code",
   "execution_count": null,
   "metadata": {},
   "outputs": [],
   "source": [
    "joined.shape"
   ]
  },
  {
   "cell_type": "code",
   "execution_count": null,
   "metadata": {},
   "outputs": [],
   "source": [
    "joined[joined[\"username\"] != np.nan]"
   ]
  },
  {
   "cell_type": "code",
   "execution_count": null,
   "metadata": {},
   "outputs": [],
   "source": []
  }
 ],
 "metadata": {
  "kernelspec": {
   "display_name": "base",
   "language": "python",
   "name": "python3"
  },
  "language_info": {
   "codemirror_mode": {
    "name": "ipython",
    "version": 3
   },
   "file_extension": ".py",
   "mimetype": "text/x-python",
   "name": "python",
   "nbconvert_exporter": "python",
   "pygments_lexer": "ipython3",
   "version": "3.9.7"
  },
  "orig_nbformat": 4
 },
 "nbformat": 4,
 "nbformat_minor": 2
}
