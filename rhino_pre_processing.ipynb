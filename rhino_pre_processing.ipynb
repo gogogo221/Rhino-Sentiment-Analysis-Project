{
 "cells": [
  {
   "cell_type": "code",
   "execution_count": null,
   "metadata": {},
   "outputs": [],
   "source": [
    "import pandas as pd\n",
    "import glob\n",
    "import os\n",
    "from collections import defaultdict\n",
    "import numpy as np"
   ]
  },
  {
   "cell_type": "code",
   "execution_count": null,
   "metadata": {},
   "outputs": [],
   "source": [
    "#take in user data\n",
    "path = r'D:/coding/classes/csci461/Rhino-Sentiment-Analysis-Project/Rhino_Users' # use your path\n",
    "print(path)\n",
    "all_files = glob.glob(os.path.join(path , \"*.csv\"))\n",
    "print(os.path.join(path , \"*.csv\"))\n",
    "li = []\n",
    "\n",
    "for filename in all_files:\n",
    "    print(filename)\n",
    "    df = pd.read_csv(filename, index_col=None, header=0, lineterminator='\\n', converters = {'id': str})\n",
    "    li.append(df)\n",
    "\n",
    "\n",
    "users = pd.concat(li, axis=0, ignore_index=True)\n",
    "users.rename(columns={'created_at': 'users_created_at'}, inplace=True)\n"
   ]
  },
  {
   "cell_type": "code",
   "execution_count": 6,
   "metadata": {},
   "outputs": [
    {
     "name": "stdout",
     "output_type": "stream",
     "text": [
      "D:/coding/classes/csci461/Rhino-Sentiment-Analysis-Project/tweets\\rhino_twitter_data_113.csv\n",
      "D:/coding/classes/csci461/Rhino-Sentiment-Analysis-Project/tweets\\rhino_twitter_data_114.csv\n"
     ]
    }
   ],
   "source": [
    "#take in tweet\n",
    "path = r'D:/coding/classes/csci461/Rhino-Sentiment-Analysis-Project/tweets' # use your path\n",
    "print(path)\n",
    "all_files = glob.glob(os.path.join(path , \"*.csv\"))\n",
    "print(os.path.join(path , \"*.csv\"))\n",
    "li = []\n",
    "\n",
    "for filename in all_files:\n",
    "    print(filename)\n",
    "    df = pd.read_csv(filename, index_col=None, header=0, lineterminator='\\n', converters = {'author_id': str})\n",
    "    li.append(df)\n",
    "\n",
    "\n",
    "tweets = pd.concat(li, axis=0, ignore_index=True)\n",
    "tweets.rename(columns={'created_at': 'tweet_created_at'}, inplace=True)\n",
    "tweets.drop( columns=\"created_at\\r\" ,inplace=True)\n"
   ]
  },
  {
   "cell_type": "code",
   "execution_count": null,
   "metadata": {},
   "outputs": [],
   "source": [
    "tweets.rename(columns={'created_at': 'tweet_created_at', \"created_at\\r\" : \"tweet_created_at\"}, inplace=True)\n"
   ]
  },
  {
   "cell_type": "code",
   "execution_count": null,
   "metadata": {},
   "outputs": [],
   "source": [
    "users.head(10)"
   ]
  },
  {
   "cell_type": "code",
   "execution_count": null,
   "metadata": {},
   "outputs": [],
   "source": [
    "#number of users \n",
    "print(users.shape[0])"
   ]
  },
  {
   "cell_type": "code",
   "execution_count": null,
   "metadata": {},
   "outputs": [],
   "source": [
    "tweets.shape"
   ]
  },
  {
   "cell_type": "code",
   "execution_count": null,
   "metadata": {},
   "outputs": [],
   "source": [
    "tweets = tweets"
   ]
  },
  {
   "cell_type": "code",
   "execution_count": null,
   "metadata": {},
   "outputs": [],
   "source": [
    "users.loc[users[\"id\"] == \"3426754587\"]"
   ]
  },
  {
   "cell_type": "code",
   "execution_count": null,
   "metadata": {},
   "outputs": [],
   "source": [
    "tweets[tweets[\"author_id\"] == \"3302594272\"]"
   ]
  },
  {
   "cell_type": "code",
   "execution_count": null,
   "metadata": {},
   "outputs": [],
   "source": [
    "tweets_no_na = tweets.dropna(axis=0, how=\"any\")"
   ]
  },
  {
   "cell_type": "code",
   "execution_count": null,
   "metadata": {},
   "outputs": [],
   "source": [
    "users_no_na = users.dropna(axis=0, how=\"any\")"
   ]
  },
  {
   "cell_type": "code",
   "execution_count": null,
   "metadata": {},
   "outputs": [],
   "source": [
    "users.shape"
   ]
  },
  {
   "cell_type": "code",
   "execution_count": null,
   "metadata": {},
   "outputs": [],
   "source": [
    "users_no_na.shape"
   ]
  },
  {
   "cell_type": "code",
   "execution_count": null,
   "metadata": {},
   "outputs": [],
   "source": [
    "users_no_na.head(10)"
   ]
  },
  {
   "cell_type": "code",
   "execution_count": null,
   "metadata": {},
   "outputs": [],
   "source": [
    "tweets.shape"
   ]
  },
  {
   "cell_type": "code",
   "execution_count": null,
   "metadata": {},
   "outputs": [],
   "source": [
    "tweets_no_na.shape"
   ]
  },
  {
   "cell_type": "code",
   "execution_count": null,
   "metadata": {},
   "outputs": [],
   "source": [
    "tweets_no_na.head(5)"
   ]
  },
  {
   "cell_type": "markdown",
   "metadata": {},
   "source": []
  },
  {
   "cell_type": "code",
   "execution_count": null,
   "metadata": {},
   "outputs": [],
   "source": [
    "tweets_eng_only = tweets_no_na[tweets_no_na[\"lang\"] == \"en\"]"
   ]
  },
  {
   "cell_type": "code",
   "execution_count": null,
   "metadata": {},
   "outputs": [],
   "source": [
    "tweets_eng_only.shape"
   ]
  },
  {
   "cell_type": "code",
   "execution_count": null,
   "metadata": {},
   "outputs": [],
   "source": [
    "joined = tweets_eng_only.join(users_no_na.set_index(\"id\"), on=\"author_id\", how=\"inner\")"
   ]
  },
  {
   "cell_type": "code",
   "execution_count": null,
   "metadata": {},
   "outputs": [],
   "source": [
    "joined.shape"
   ]
  },
  {
   "cell_type": "code",
   "execution_count": null,
   "metadata": {},
   "outputs": [],
   "source": [
    "joined[\"author_id\"].unique().shape"
   ]
  },
  {
   "cell_type": "code",
   "execution_count": null,
   "metadata": {},
   "outputs": [],
   "source": [
    "#https://www.geeksforgeeks.org/extracting-locations-from-text-using-python/\n",
    "#funciton to tag country\n",
    "import locationtagger\n",
    "def tag_country(location):\n",
    "    place = (locationtagger.find_locations(text = location))\n",
    "    #print(f\"{i} {place.countries} {place.regions} {place.cities} {place.country_regions}\")\n",
    "    if len(place.countries) != 0:\n",
    "        return (place.countries[0])\n",
    "    elif len(place.country_regions) != 0:\n",
    "        return (list(place.country_regions.keys())[0])\n",
    "    elif len(place.country_cities) != 0:\n",
    "        return (list(place.country_cities.keys())[0])\n",
    "    else:\n",
    "        return (None)\n",
    "   "
   ]
  },
  {
   "cell_type": "code",
   "execution_count": null,
   "metadata": {},
   "outputs": [],
   "source": [
    "#tag country \n",
    "first_1000 = users_no_na.iloc[0:100]\n",
    "first_1000[\"country\"] = users_no_na[\"location\"].iloc[0:100].apply(tag_country)\n",
    "first_1000"
   ]
  }
 ],
 "metadata": {
  "kernelspec": {
   "display_name": "base",
   "language": "python",
   "name": "python3"
  },
  "language_info": {
   "codemirror_mode": {
    "name": "ipython",
    "version": 3
   },
   "file_extension": ".py",
   "mimetype": "text/x-python",
   "name": "python",
   "nbconvert_exporter": "python",
   "pygments_lexer": "ipython3",
   "version": "3.9.7"
  },
  "orig_nbformat": 4
 },
 "nbformat": 4,
 "nbformat_minor": 2
}
