{
 "cells": [
  {
   "cell_type": "code",
   "execution_count": null,
   "metadata": {},
   "outputs": [],
   "source": [
    "import pandas as pd\n",
    "import glob\n",
    "import os\n",
    "from collections import defaultdict\n",
    "import numpy as np\n",
    "import locationtagger\n",
    "from pathlib import Path\n",
    "\n",
    "USERS_DATA = r'D:/coding/classes/csci461/Rhino-Sentiment-Analysis-Project/Rhino_Users'\n",
    "PROCESSED_DATA_FOLDER = r\"D:/coding/classes/csci461/Rhino-Sentiment-Analysis-Project/processed_users/\""
   ]
  },
  {
   "cell_type": "code",
   "execution_count": null,
   "metadata": {},
   "outputs": [],
   "source": [
    "#https://www.geeksforgeeks.org/extracting-locations-from-text-using-python/\n",
    "#funciton to tag country\n",
    "\n",
    "\n",
    "def add_tag(row):\n",
    "    place = (locationtagger.find_locations(text = row.location))\n",
    "    return place\n",
    "\n",
    "def tag_country(row):\n",
    "    #place = (locationtagger.find_locations(text = location))\n",
    "    #print(f\"{i} {place.countries} {place.regions} {place.cities} {place.country_regions}\")\n",
    "    place = row['place']\n",
    "    if len(place.countries) != 0:\n",
    "        return (place.countries[0])\n",
    "    elif len(place.country_regions) != 0:\n",
    "        return (list(place.country_regions.keys())[0])\n",
    "    elif len(place.country_cities) != 0:\n",
    "        return (list(place.country_cities.keys())[0])\n",
    "    else:\n",
    "        return (None)\n",
    "\n",
    "def tag_region(row):\n",
    "    place = row['place']\n",
    "    if len(place.regions) != 0:\n",
    "        return place.regions[0]\n",
    "    elif len(place.region_cities) != 0:\n",
    "        return list(place.region_cities.keys())[0]\n",
    "    else:\n",
    "        return None\n",
    "def tag_city(row):\n",
    "    place = row['place']\n",
    "    if len(place.cities) != 0:\n",
    "        return place.cities[0]\n",
    "    else:\n",
    "        return 0\n",
    "\n",
    "   "
   ]
  },
  {
   "cell_type": "code",
   "execution_count": null,
   "metadata": {},
   "outputs": [],
   "source": [
    "def process_df(users, filename):\n",
    "    outfile_path = PROCESSED_DATA_FOLDER + filename\n",
    "    users = users.dropna(axis=0, how=\"any\")\n",
    "    users[\"place\"] = users.apply(add_tag, axis=1)\n",
    "    users[\"country\"] = users.apply(tag_country, axis=1)\n",
    "    users[\"region\"] = users.apply(tag_region, axis=1)\n",
    "    users[\"city\"] = users.apply(tag_city,axis=1)\n",
    "    users.drop(\"place\", inplace = True, axis=1)\n",
    "    users.to_csv(Path(outfile_path), index=False)\n"
   ]
  },
  {
   "cell_type": "code",
   "execution_count": null,
   "metadata": {},
   "outputs": [],
   "source": [
    "#take in user data\n",
    "path = USERS_DATA # use your path\n",
    "print(path)\n",
    "all_files = glob.glob(os.path.join(path , \"*.csv\"))\n",
    "print(os.path.join(path , \"*.csv\"))\n",
    "li = []\n",
    "\n",
    "for file_path in all_files:\n",
    "    print(file_path)\n",
    "    df = pd.read_csv(file_path, index_col=None, header=0, lineterminator='\\n', converters = {'id': str})\n",
    "    filename = file_path.split(\"\\\\\")[-1]\n",
    "    split_df =  np.array_split(df, 20)\n",
    "    for i, temp in enumerate(split_df):\n",
    "        temp_filename =  str(i) + filename\n",
    "        print(temp_filename)\n",
    "        if(os.path.isfile(PROCESSED_DATA_FOLDER + temp_filename)):\n",
    "            continue\n",
    "        process_df(temp, temp_filename)\n",
    "\n"
   ]
  }
 ],
 "metadata": {
  "kernelspec": {
   "display_name": "base",
   "language": "python",
   "name": "python3"
  },
  "language_info": {
   "codemirror_mode": {
    "name": "ipython",
    "version": 3
   },
   "file_extension": ".py",
   "mimetype": "text/x-python",
   "name": "python",
   "nbconvert_exporter": "python",
   "pygments_lexer": "ipython3",
   "version": "3.9.7"
  }
 },
 "nbformat": 4,
 "nbformat_minor": 2
}
