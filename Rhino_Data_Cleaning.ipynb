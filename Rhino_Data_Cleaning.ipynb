{
  "nbformat": 4,
  "nbformat_minor": 0,
  "metadata": {
    "colab": {
      "provenance": []
    },
    "kernelspec": {
      "name": "python3",
      "display_name": "Python 3"
    },
    "language_info": {
      "name": "python"
    }
  },
  "cells": [
    {
      "cell_type": "code",
      "execution_count": 11,
      "metadata": {
        "id": "SY-O0Lkn4EHG"
      },
      "outputs": [],
      "source": [
        "from numpy import random\n",
        "from google.colab import files\n",
        "from sklearn.feature_extraction.text import TfidfVectorizer\n",
        "import io\n",
        "import re\n",
        "import unicodedata\n",
        "import string\n",
        "import numpy as np\n",
        "import pandas as pd"
      ]
    },
    {
      "cell_type": "code",
      "source": [
        "# Setup for tokenization/lemma/stem/stop word removal\n",
        "!pip install -q wordcloud\n",
        "import wordcloud\n",
        "import nltk\n",
        "nltk.download('stopwords')\n",
        "nltk.download('wordnet')\n",
        "nltk.download('punkt')\n",
        "nltk.download('averaged_perceptron_tagger')"
      ],
      "metadata": {
        "colab": {
          "base_uri": "https://localhost:8080/"
        },
        "id": "Kuj_Yh5bPtA_",
        "outputId": "c96d4bd7-e284-4c6f-d779-d918e70a778c"
      },
      "execution_count": 9,
      "outputs": [
        {
          "output_type": "stream",
          "name": "stderr",
          "text": [
            "[nltk_data] Downloading package stopwords to /root/nltk_data...\n",
            "[nltk_data]   Unzipping corpora/stopwords.zip.\n",
            "[nltk_data] Downloading package wordnet to /root/nltk_data...\n",
            "[nltk_data] Downloading package punkt to /root/nltk_data...\n",
            "[nltk_data]   Unzipping tokenizers/punkt.zip.\n",
            "[nltk_data] Downloading package averaged_perceptron_tagger to\n",
            "[nltk_data]     /root/nltk_data...\n",
            "[nltk_data]   Unzipping taggers/averaged_perceptron_tagger.zip.\n"
          ]
        },
        {
          "output_type": "execute_result",
          "data": {
            "text/plain": [
              "True"
            ]
          },
          "metadata": {},
          "execution_count": 9
        }
      ]
    },
    {
      "cell_type": "code",
      "source": [
        "from google.colab import files\n",
        "\n",
        "# Upload desired datasets\n",
        "uploaded = files.upload()"
      ],
      "metadata": {
        "colab": {
          "base_uri": "https://localhost:8080/",
          "height": 74
        },
        "id": "V-rbp39W5ZmR",
        "outputId": "eb5e68b0-d3c8-49d0-af3a-e81f62f2187d"
      },
      "execution_count": 3,
      "outputs": [
        {
          "output_type": "display_data",
          "data": {
            "text/plain": [
              "<IPython.core.display.HTML object>"
            ],
            "text/html": [
              "\n",
              "     <input type=\"file\" id=\"files-e218a90e-3140-446f-847c-a2ffd6793ede\" name=\"files[]\" multiple disabled\n",
              "        style=\"border:none\" />\n",
              "     <output id=\"result-e218a90e-3140-446f-847c-a2ffd6793ede\">\n",
              "      Upload widget is only available when the cell has been executed in the\n",
              "      current browser session. Please rerun this cell to enable.\n",
              "      </output>\n",
              "      <script>// Copyright 2017 Google LLC\n",
              "//\n",
              "// Licensed under the Apache License, Version 2.0 (the \"License\");\n",
              "// you may not use this file except in compliance with the License.\n",
              "// You may obtain a copy of the License at\n",
              "//\n",
              "//      http://www.apache.org/licenses/LICENSE-2.0\n",
              "//\n",
              "// Unless required by applicable law or agreed to in writing, software\n",
              "// distributed under the License is distributed on an \"AS IS\" BASIS,\n",
              "// WITHOUT WARRANTIES OR CONDITIONS OF ANY KIND, either express or implied.\n",
              "// See the License for the specific language governing permissions and\n",
              "// limitations under the License.\n",
              "\n",
              "/**\n",
              " * @fileoverview Helpers for google.colab Python module.\n",
              " */\n",
              "(function(scope) {\n",
              "function span(text, styleAttributes = {}) {\n",
              "  const element = document.createElement('span');\n",
              "  element.textContent = text;\n",
              "  for (const key of Object.keys(styleAttributes)) {\n",
              "    element.style[key] = styleAttributes[key];\n",
              "  }\n",
              "  return element;\n",
              "}\n",
              "\n",
              "// Max number of bytes which will be uploaded at a time.\n",
              "const MAX_PAYLOAD_SIZE = 100 * 1024;\n",
              "\n",
              "function _uploadFiles(inputId, outputId) {\n",
              "  const steps = uploadFilesStep(inputId, outputId);\n",
              "  const outputElement = document.getElementById(outputId);\n",
              "  // Cache steps on the outputElement to make it available for the next call\n",
              "  // to uploadFilesContinue from Python.\n",
              "  outputElement.steps = steps;\n",
              "\n",
              "  return _uploadFilesContinue(outputId);\n",
              "}\n",
              "\n",
              "// This is roughly an async generator (not supported in the browser yet),\n",
              "// where there are multiple asynchronous steps and the Python side is going\n",
              "// to poll for completion of each step.\n",
              "// This uses a Promise to block the python side on completion of each step,\n",
              "// then passes the result of the previous step as the input to the next step.\n",
              "function _uploadFilesContinue(outputId) {\n",
              "  const outputElement = document.getElementById(outputId);\n",
              "  const steps = outputElement.steps;\n",
              "\n",
              "  const next = steps.next(outputElement.lastPromiseValue);\n",
              "  return Promise.resolve(next.value.promise).then((value) => {\n",
              "    // Cache the last promise value to make it available to the next\n",
              "    // step of the generator.\n",
              "    outputElement.lastPromiseValue = value;\n",
              "    return next.value.response;\n",
              "  });\n",
              "}\n",
              "\n",
              "/**\n",
              " * Generator function which is called between each async step of the upload\n",
              " * process.\n",
              " * @param {string} inputId Element ID of the input file picker element.\n",
              " * @param {string} outputId Element ID of the output display.\n",
              " * @return {!Iterable<!Object>} Iterable of next steps.\n",
              " */\n",
              "function* uploadFilesStep(inputId, outputId) {\n",
              "  const inputElement = document.getElementById(inputId);\n",
              "  inputElement.disabled = false;\n",
              "\n",
              "  const outputElement = document.getElementById(outputId);\n",
              "  outputElement.innerHTML = '';\n",
              "\n",
              "  const pickedPromise = new Promise((resolve) => {\n",
              "    inputElement.addEventListener('change', (e) => {\n",
              "      resolve(e.target.files);\n",
              "    });\n",
              "  });\n",
              "\n",
              "  const cancel = document.createElement('button');\n",
              "  inputElement.parentElement.appendChild(cancel);\n",
              "  cancel.textContent = 'Cancel upload';\n",
              "  const cancelPromise = new Promise((resolve) => {\n",
              "    cancel.onclick = () => {\n",
              "      resolve(null);\n",
              "    };\n",
              "  });\n",
              "\n",
              "  // Wait for the user to pick the files.\n",
              "  const files = yield {\n",
              "    promise: Promise.race([pickedPromise, cancelPromise]),\n",
              "    response: {\n",
              "      action: 'starting',\n",
              "    }\n",
              "  };\n",
              "\n",
              "  cancel.remove();\n",
              "\n",
              "  // Disable the input element since further picks are not allowed.\n",
              "  inputElement.disabled = true;\n",
              "\n",
              "  if (!files) {\n",
              "    return {\n",
              "      response: {\n",
              "        action: 'complete',\n",
              "      }\n",
              "    };\n",
              "  }\n",
              "\n",
              "  for (const file of files) {\n",
              "    const li = document.createElement('li');\n",
              "    li.append(span(file.name, {fontWeight: 'bold'}));\n",
              "    li.append(span(\n",
              "        `(${file.type || 'n/a'}) - ${file.size} bytes, ` +\n",
              "        `last modified: ${\n",
              "            file.lastModifiedDate ? file.lastModifiedDate.toLocaleDateString() :\n",
              "                                    'n/a'} - `));\n",
              "    const percent = span('0% done');\n",
              "    li.appendChild(percent);\n",
              "\n",
              "    outputElement.appendChild(li);\n",
              "\n",
              "    const fileDataPromise = new Promise((resolve) => {\n",
              "      const reader = new FileReader();\n",
              "      reader.onload = (e) => {\n",
              "        resolve(e.target.result);\n",
              "      };\n",
              "      reader.readAsArrayBuffer(file);\n",
              "    });\n",
              "    // Wait for the data to be ready.\n",
              "    let fileData = yield {\n",
              "      promise: fileDataPromise,\n",
              "      response: {\n",
              "        action: 'continue',\n",
              "      }\n",
              "    };\n",
              "\n",
              "    // Use a chunked sending to avoid message size limits. See b/62115660.\n",
              "    let position = 0;\n",
              "    do {\n",
              "      const length = Math.min(fileData.byteLength - position, MAX_PAYLOAD_SIZE);\n",
              "      const chunk = new Uint8Array(fileData, position, length);\n",
              "      position += length;\n",
              "\n",
              "      const base64 = btoa(String.fromCharCode.apply(null, chunk));\n",
              "      yield {\n",
              "        response: {\n",
              "          action: 'append',\n",
              "          file: file.name,\n",
              "          data: base64,\n",
              "        },\n",
              "      };\n",
              "\n",
              "      let percentDone = fileData.byteLength === 0 ?\n",
              "          100 :\n",
              "          Math.round((position / fileData.byteLength) * 100);\n",
              "      percent.textContent = `${percentDone}% done`;\n",
              "\n",
              "    } while (position < fileData.byteLength);\n",
              "  }\n",
              "\n",
              "  // All done.\n",
              "  yield {\n",
              "    response: {\n",
              "      action: 'complete',\n",
              "    }\n",
              "  };\n",
              "}\n",
              "\n",
              "scope.google = scope.google || {};\n",
              "scope.google.colab = scope.google.colab || {};\n",
              "scope.google.colab._files = {\n",
              "  _uploadFiles,\n",
              "  _uploadFilesContinue,\n",
              "};\n",
              "})(self);\n",
              "</script> "
            ]
          },
          "metadata": {}
        },
        {
          "output_type": "stream",
          "name": "stdout",
          "text": [
            "Saving rhino_twitter_data_1.csv to rhino_twitter_data_1.csv\n"
          ]
        }
      ]
    },
    {
      "cell_type": "code",
      "source": [
        "# -----------------------------------------------------------------------------\n",
        "# This cell contains functions to read and cleanup a dataset\n",
        "# -----------------------------------------------------------------------------\n",
        "def read_and_cleanup_dataset(filename):\n",
        "  # Read dataset into dataframe\n",
        "  tweets = pd.read_csv(filename)\n",
        "\n",
        "  # Drop none English tweets, comment out if pre-processed\n",
        "  tweets = tweets[tweets.lang == \"en\"]\n",
        "  tweets.reset_index(drop=True, inplace=True)\n",
        "\n",
        "  # Define patterns to be excluded, currently the following:\n",
        "  # special characters, @someone, &sth, rt, new line, link, any extra space\n",
        "  pattern = r'[!@#\\$%\\^&\\*\\(\\)\\[\\]{};:\\'\",.<>/?\\\\|_~`-]+|@\\w+|&\\w+|rt|\\n|https://\\S+'\n",
        "\n",
        "  # pattern for white space\n",
        "  ws = r'\\s+'\n",
        "\n",
        "  # non-ASCII specific quotes\n",
        "  quotes_to_remove = ['“', '”', '‘', '‛', '’']\n",
        "\n",
        "  # Define emoji patterns to be excluded\n",
        "  emoji_pattern = re.compile(\"[\"\n",
        "                           u\"\\U0001F600-\\U0001F64F\"  # Emojis in the first group\n",
        "                           u\"\\U0001F300-\\U0001F5FF\"  # Emojis in the second group\n",
        "                           u\"\\U0001F680-\\U0001F6FF\"  # Emojis in the third group\n",
        "                           u\"\\U0001F700-\\U0001F77F\"  # Emojis in the fourth group\n",
        "                           u\"\\U0001F780-\\U0001F7FF\"  # Emojis in the fifth group\n",
        "                           u\"\\U0001F800-\\U0001F8FF\"  # Emojis in the sixth group\n",
        "                           u\"\\U0001F900-\\U0001F9FF\"  # Emojis in the seventh group\n",
        "                           u\"\\U0001FA00-\\U0001FA6F\"  # Emojis in the eighth group\n",
        "                           u\"\\U0001FA70-\\U0001FAFF\"  # Emojis in the ninth group\n",
        "                           u\"\\U0001F200-\\U0001F251\"  # Emojis in the tenth group\n",
        "                           u\"\\U0001F004-\\U0001F0CF\"  # Additional emojis\n",
        "                           u\"\\U0001F10D-\\U0001F10F\"  # Additional emojis\n",
        "                           u\"\\U0001F30D-\\U0001F567\"  # Additional emojis\n",
        "                           \"]+\", flags=re.UNICODE)\n",
        "\n",
        "  # Perform lower casing and remove any patterns\n",
        "  tweets['tweet'] = tweets['tweet'].apply(str.lower)\n",
        "  tweets['tweet'] = tweets['tweet'].str.replace(pattern, '', regex=True)\n",
        "  tweets['tweet'] = tweets['tweet'].apply(lambda x: emoji_pattern.sub(r'', x))\n",
        "  tweets['tweet'] = tweets['tweet'].str.replace(ws, ' ', regex=True).str.strip()\n",
        "  for quote in quotes_to_remove:\n",
        "    tweets['tweet'] = tweets['tweet'].str.replace(quote, '')\n",
        "\n",
        "  return tweets"
      ],
      "metadata": {
        "id": "FaDu89MF5KdA"
      },
      "execution_count": 4,
      "outputs": []
    },
    {
      "cell_type": "code",
      "source": [
        "fn = 'rhino_twitter_data_1.csv'\n",
        "tweets = read_and_cleanup_dataset(io.BytesIO(uploaded[fn]))\n",
        "li_tweets = tweets['tweet'].tolist()\n",
        "print(tweets['tweet'].head().to_string())\n",
        "print()\n",
        "print(\"len(li_tweets):\", len(li_tweets))"
      ],
      "metadata": {
        "colab": {
          "base_uri": "https://localhost:8080/"
        },
        "id": "B1MCTQGJ5K0M",
        "outputId": "276b94c4-2e01-4fa9-c544-57ba0a6419d7"
      },
      "execution_count": 12,
      "outputs": [
        {
          "output_type": "stream",
          "name": "stdout",
          "text": [
            "0    leedsrhinos rohan smith has named his 21 man s...\n",
            "1    olpejeta happy valentines daytheres no better ...\n",
            "2    jackiec49305942 nikki haley announces presiden...\n",
            "3    carolinadarren no i will vote for ron desantis...\n",
            "4    bosnerdley chris christie is the biggest rhino...\n",
            "\n",
            "len(li_tweets): 95026\n"
          ]
        }
      ]
    },
    {
      "cell_type": "code",
      "source": [
        "# Constants\n",
        "# POS (Parts Of Speech) for: nouns, adjectives, verbs and adverbs\n",
        "DI_POS_TYPES = {'NN':'n', 'JJ':'a', 'VB':'v', 'RB':'r'}\n",
        "POS_TYPES = list(DI_POS_TYPES.keys())\n",
        "\n",
        "# Constraints on tokens\n",
        "MIN_STR_LEN = 3\n",
        "RE_VALID = '[a-zA-Z]'"
      ],
      "metadata": {
        "id": "UcDHCwQkRrMK"
      },
      "execution_count": 13,
      "outputs": []
    },
    {
      "cell_type": "code",
      "source": [
        "# -----------------------------------------------------------------------------\n",
        "# This cell contains functions to perform tokenization and remove stop words\n",
        "# -----------------------------------------------------------------------------\n",
        "# Get stopwords, stemmer and lemmatizer\n",
        "stopwords = nltk.corpus.stopwords.words('english')\n",
        "stopwords.append('rhino')\n",
        "stemmer = nltk.stem.PorterStemmer()\n",
        "lemmatizer = nltk.stem.WordNetLemmatizer()\n",
        "\n",
        "# Remove accents function\n",
        "def remove_accents(data):\n",
        "    return ''.join(x for x in unicodedata.normalize('NFKD', data) if x in string.ascii_letters or x == \" \")\n",
        "\n",
        "# Process all quotes\n",
        "li_tokens = []\n",
        "li_token_lists = []\n",
        "li_lem_strings = []\n",
        "\n",
        "for i,text in enumerate(li_tweets):\n",
        "    # Tokenize by sentence, then by lowercase word\n",
        "    tokens = [word.lower() for sent in nltk.sent_tokenize(text) for word in nltk.word_tokenize(sent)]\n",
        "\n",
        "    # Process all tokens per quote\n",
        "    li_tokens_quote = []\n",
        "    li_tokens_quote_lem = []\n",
        "    for token in tokens:\n",
        "        # Remove accents\n",
        "        t = remove_accents(token)\n",
        "\n",
        "        # Remove punctuation\n",
        "        t = str(t).translate(string.punctuation)\n",
        "        li_tokens_quote.append(t)\n",
        "\n",
        "        # Add token that represents \"no lemmatization match\"\n",
        "        li_tokens_quote_lem.append(\"-\") # this token will be removed if a lemmatization match is found below\n",
        "\n",
        "        # Process each token\n",
        "        if t not in stopwords:\n",
        "            if re.search(RE_VALID, t):\n",
        "                if len(t) >= MIN_STR_LEN:\n",
        "                    # Note that the POS (Part Of Speech) is necessary as input to the lemmatizer\n",
        "                    # (otherwise it assumes the word is a noun)\n",
        "                    pos = nltk.pos_tag([t])[0][1][:2]\n",
        "                    pos2 = 'n'  # set default to noun\n",
        "                    if pos in DI_POS_TYPES:\n",
        "                      pos2 = DI_POS_TYPES[pos]\n",
        "\n",
        "                    stem = stemmer.stem(t)\n",
        "                    lem = lemmatizer.lemmatize(t, pos=pos2)  # lemmatize with the correct POS\n",
        "\n",
        "                    if pos in POS_TYPES:\n",
        "                        li_tokens.append((t, stem, lem, pos))\n",
        "\n",
        "                        # Remove the \"-\" token and append the lemmatization match\n",
        "                        li_tokens_quote_lem = li_tokens_quote_lem[:-1]\n",
        "                        li_tokens_quote_lem.append(lem)\n",
        "\n",
        "    # Build list of token lists from lemmatized tokens\n",
        "    li_token_lists.append(li_tokens_quote)\n",
        "\n",
        "    # Build list of strings from lemmatized tokens\n",
        "    str_li_tokens_quote_lem = ' '.join(li_tokens_quote_lem)\n",
        "    li_lem_strings.append(str_li_tokens_quote_lem)\n",
        "\n",
        "# Build resulting dataframes from lists\n",
        "df_token_lists = pd.DataFrame(li_token_lists)\n",
        "\n",
        "print(\"df_token_lists.head(5):\")\n",
        "print(df_token_lists.head(5).to_string())\n",
        "\n",
        "# Replace None with empty string\n",
        "for c in df_token_lists:\n",
        "    if str(df_token_lists[c].dtype) in ('object', 'string_', 'unicode_'):\n",
        "        df_token_lists[c].fillna(value='', inplace=True)\n",
        "\n",
        "df_lem_strings = pd.DataFrame(li_lem_strings, columns=['lem quote'])\n",
        "\n",
        "print()\n",
        "print(\"\")\n",
        "print(\"df_lem_strings.head():\")\n",
        "print(df_lem_strings.head().to_string())"
      ],
      "metadata": {
        "colab": {
          "base_uri": "https://localhost:8080/"
        },
        "id": "vPxFhwewLcNP",
        "outputId": "abf406db-e04b-4ebd-af33-ce6fdde646f1"
      },
      "execution_count": 19,
      "outputs": [
        {
          "output_type": "stream",
          "name": "stdout",
          "text": [
            "df_token_lists.head(5):\n",
            "              0      1           2          3             4         5      6         7          8      9     10          11      12          13        14    15       16       17     18       19       20    21    22       23    24    25        26    27    28    29    30    31    32    33    34    35    36    37    38    39    40    41    42    43    44    45    46    47    48    49    50    51    52    53    54    55    56    57    58    59    60    61    62    63    64    65    66    67    68    69    70    71    72    73    74    75    76    77    78    79    80    81    82    83    84    85    86    87    88    89    90    91    92    93    94    95    96    97    98    99    100\n",
            "0     leedsrhinos  rohan       smith        has         named       his              man      squad     to  face  warrington  wolves        this  thursday    in      the  betfred  super   league  opening  game    wi     None  None  None      None  None  None  None  None  None  None  None  None  None  None  None  None  None  None  None  None  None  None  None  None  None  None  None  None  None  None  None  None  None  None  None  None  None  None  None  None  None  None  None  None  None  None  None  None  None  None  None  None  None  None  None  None  None  None  None  None  None  None  None  None  None  None  None  None  None  None  None  None  None  None  None  None  None  None\n",
            "1        olpejeta  happy  valentines  daytheres            no    better    way        to  celebrate   than  with  heawarming   rhino        news      love   was  ceainly       in    the      air       in  None  None     None  None  None      None  None  None  None  None  None  None  None  None  None  None  None  None  None  None  None  None  None  None  None  None  None  None  None  None  None  None  None  None  None  None  None  None  None  None  None  None  None  None  None  None  None  None  None  None  None  None  None  None  None  None  None  None  None  None  None  None  None  None  None  None  None  None  None  None  None  None  None  None  None  None  None  None  None  None\n",
            "2         jackiec  nikki       haley  announces  presidential  campaign    its      time        for      a   new  generation      of  leadership      None  None     None     None   None     None     None  None  None     None  None  None      None  None  None  None  None  None  None  None  None  None  None  None  None  None  None  None  None  None  None  None  None  None  None  None  None  None  None  None  None  None  None  None  None  None  None  None  None  None  None  None  None  None  None  None  None  None  None  None  None  None  None  None  None  None  None  None  None  None  None  None  None  None  None  None  None  None  None  None  None  None  None  None  None  None  None\n",
            "3  carolinadarren     no           i       will          vote       for    ron  desantis         or  trump   but          if     you        guys      want    to     draw        a   line       in      the  sand    im  rocking  with   ron  desantis  None  None  None  None  None  None  None  None  None  None  None  None  None  None  None  None  None  None  None  None  None  None  None  None  None  None  None  None  None  None  None  None  None  None  None  None  None  None  None  None  None  None  None  None  None  None  None  None  None  None  None  None  None  None  None  None  None  None  None  None  None  None  None  None  None  None  None  None  None  None  None  None  None  None\n",
            "4      bosnerdley  chris    christie         is           the   biggest  rhino         i       know   they  dont        come     any      bigger        or   the     dems    would   have  ordered       it  None  None     None  None  None      None  None  None  None  None  None  None  None  None  None  None  None  None  None  None  None  None  None  None  None  None  None  None  None  None  None  None  None  None  None  None  None  None  None  None  None  None  None  None  None  None  None  None  None  None  None  None  None  None  None  None  None  None  None  None  None  None  None  None  None  None  None  None  None  None  None  None  None  None  None  None  None  None  None  None\n",
            "\n",
            "\n",
            "df_lem_strings.head():\n",
            "                                                                                                                lem quote\n",
            "0  leedsrhinos rohan smith - name - - man squad - face warrington wolf - thursday - - betfred super league opening game -\n",
            "1                olpejeta happy valentine daytheres - well way - celebrate - - heawarming - news love - ceainly - - air -\n",
            "2                              jackiec nikki haley announces presidential campaign - time - - new generation - leadership\n",
            "3            carolinadarren - - - vote - ron desantis - trump - - - guy want - draw - line - - sand - rock - ron desantis\n",
            "4                                       bosnerdley chris christie - - big - - know - dont come - big - - dems - - order -\n"
          ]
        }
      ]
    },
    {
      "cell_type": "code",
      "source": [
        "# Process results, find the most popular lemmatized words and group results by Part of Speech (POS)\n",
        "# Add counts\n",
        "print(\"Group by lemmatized words, add count and sort:\")\n",
        "df_all_words = pd.DataFrame(li_tokens, columns=['token', 'stem', 'lem', 'pos'])\n",
        "df_all_words['counts'] = df_all_words.groupby(['lem'])['lem'].transform('count')\n",
        "df_all_words = df_all_words.sort_values(by=['counts', 'lem'], ascending=[False, True]).reset_index()\n",
        "\n",
        "print(\"Get just the first row in each lemmatized group\")\n",
        "df_words = df_all_words.groupby('lem').first().sort_values(by='counts', ascending=False).reset_index()\n",
        "print(\"df_words.head(10):\")\n",
        "print(df_words.head(10))"
      ],
      "metadata": {
        "colab": {
          "base_uri": "https://localhost:8080/"
        },
        "id": "PrY8bRNzS7j7",
        "outputId": "a22cf3a6-1dd9-4942-a33d-7505d4f710ec"
      },
      "execution_count": 20,
      "outputs": [
        {
          "output_type": "stream",
          "name": "stdout",
          "text": [
            "Group by lemmatized words, add count and sort:\n",
            "Get just the first row in each lemmatized group\n",
            "df_words.head(10):\n",
            "            lem  index         token         stem pos  counts\n",
            "0         rhino    236        rhinos        rhino  NN   22117\n",
            "1           get    299           got          got  VB    6853\n",
            "2          last    269          last         last  JJ    6527\n",
            "3  rhinorecords    163  rhinorecords  rhinorecord  NN    6458\n",
            "4         poach    938      poaching        poach  VB    6066\n",
            "5          year    263         years         year  NN    6027\n",
            "6          kill    766        killed         kill  VB    5728\n",
            "7          horn    266         horns         horn  NN    5328\n",
            "8          park    289          park         park  NN    5280\n",
            "9      national    288      national       nation  JJ    4618\n"
          ]
        }
      ]
    },
    {
      "cell_type": "code",
      "source": [
        "# Top 10 words per part of speech\n",
        "df_words = df_words[['lem', 'pos', 'counts']].head(200)\n",
        "for v in POS_TYPES:\n",
        "    df_pos = df_words[df_words['pos'] == v]\n",
        "    print()\n",
        "    print(\"POS_TYPE:\", v)\n",
        "    print(df_pos.head(10).to_string())"
      ],
      "metadata": {
        "colab": {
          "base_uri": "https://localhost:8080/"
        },
        "id": "bYlvh6WoTTSd",
        "outputId": "bc2eb11e-f8ae-4dbf-d958-eaf846586c84"
      },
      "execution_count": 21,
      "outputs": [
        {
          "output_type": "stream",
          "name": "stdout",
          "text": [
            "\n",
            "POS_TYPE: NN\n",
            "               lem pos  counts\n",
            "0            rhino  NN   22117\n",
            "3     rhinorecords  NN    6458\n",
            "5             year  NN    6027\n",
            "7             horn  NN    5328\n",
            "8             park  NN    5280\n",
            "10             amp  NN    4611\n",
            "11         poacher  NN    4472\n",
            "12  maskedsingeruk  NN    4461\n",
            "13   parveenkaswan  NN    4402\n",
            "15           night  NN    4106\n",
            "\n",
            "POS_TYPE: JJ\n",
            "           lem pos  counts\n",
            "2         last  JJ    6527\n",
            "9     national  JJ    4618\n",
            "14      indian  JJ    4117\n",
            "21       white  JJ    3400\n",
            "23         new  JJ    3347\n",
            "27       black  JJ    3058\n",
            "35  republican  JJ    2678\n",
            "41        good  JJ    2261\n",
            "52       great  JJ    1952\n",
            "56         big  JJ    1764\n",
            "\n",
            "POS_TYPE: VB\n",
            "       lem pos  counts\n",
            "1      get  VB    6853\n",
            "4    poach  VB    6066\n",
            "6     kill  VB    5728\n",
            "20  remove  VB    3579\n",
            "24    know  VB    3252\n",
            "29    take  VB    2911\n",
            "32     see  VB    2879\n",
            "33    make  VB    2747\n",
            "34     say  VB    2714\n",
            "36   think  VB    2591\n",
            "\n",
            "POS_TYPE: RB\n",
            "       lem pos  counts\n",
            "30   first  RB    2899\n",
            "42    well  RB    2260\n",
            "57    even  RB    1734\n",
            "58    back  RB    1732\n",
            "60    also  RB    1646\n",
            "67   still  RB    1447\n",
            "86     ago  RB    1192\n",
            "88   never  RB    1183\n",
            "94  really  RB    1155\n",
            "95  nearly  RB    1148\n"
          ]
        }
      ]
    },
    {
      "cell_type": "code",
      "source": [
        "# Sorted frequency plot for all words\n",
        "li_token_lists_flat = [y for x in li_token_lists for y in x]  # flatten the list of token lists to a single list\n",
        "# print(\"li_token_lists_flat[:10]:\", li_token_lists_flat[:10])\n",
        "\n",
        "di_freq = nltk.FreqDist(li_token_lists_flat)\n",
        "del di_freq['']\n",
        "li_freq_sorted = sorted(di_freq.items(), key=lambda x: x[1], reverse=True)  # sorted list\n",
        "# print(li_freq_sorted)\n",
        "\n",
        "di_freq.plot(30, cumulative=False)"
      ],
      "metadata": {
        "colab": {
          "base_uri": "https://localhost:8080/",
          "height": 541
        },
        "id": "v1K6tmKVTw8T",
        "outputId": "f885bd0f-5247-44d2-9254-3629dbf52bd3"
      },
      "execution_count": 25,
      "outputs": [
        {
          "output_type": "display_data",
          "data": {
            "text/plain": [
              "<Figure size 640x480 with 1 Axes>"
            ],
            "image/png": "[encoded data removed]"
          },
          "metadata": {}
        },
        {
          "output_type": "execute_result",
          "data": {
            "text/plain": [
              "<Axes: xlabel='Samples', ylabel='Counts'>"
            ]
          },
          "metadata": {},
          "execution_count": 25
        }
      ]
    },
    {
      "cell_type": "code",
      "source": [
        "# Sorted frequency plot for Lemmatized words after removing stopwords\n",
        "li_lem_words = df_all_words['lem'].tolist()\n",
        "di_freq2 = nltk.FreqDist(li_lem_words)\n",
        "li_freq_sorted2 = sorted(di_freq2.items(), key=lambda x: x[1], reverse=True)  # sorted list\n",
        "# print(li_freq_sorted2)\n",
        "\n",
        "di_freq2.plot(30, cumulative=False)"
      ],
      "metadata": {
        "colab": {
          "base_uri": "https://localhost:8080/",
          "height": 567
        },
        "id": "yefAzQ2IT69Q",
        "outputId": "be38060b-cd74-4007-bd3a-2aa51b4bd60a"
      },
      "execution_count": 27,
      "outputs": [
        {
          "output_type": "display_data",
          "data": {
            "text/plain": [
              "<Figure size 640x480 with 1 Axes>"
            ],
            "image/png": "[encoded data removed]"
          },
          "metadata": {}
        },
        {
          "output_type": "execute_result",
          "data": {
            "text/plain": [
              "<Axes: xlabel='Samples', ylabel='Counts'>"
            ]
          },
          "metadata": {},
          "execution_count": 27
        }
      ]
    },
    {
      "cell_type": "markdown",
      "source": [],
      "metadata": {
        "id": "7FzcYCU85YjF"
      }
    }
  ]
}